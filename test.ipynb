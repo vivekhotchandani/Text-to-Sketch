{
 "cells": [
  {
   "cell_type": "code",
   "execution_count": 2,
   "metadata": {},
   "outputs": [
    {
     "name": "stdout",
     "output_type": "stream",
     "text": [
      "Loaded 24 images and 24 labels.\n"
     ]
    }
   ],
   "source": [
    "import os\n",
    "import json\n",
    "import numpy as np\n",
    "from PIL import Image\n",
    "from sklearn.preprocessing import LabelEncoder\n",
    "from sklearn.feature_extraction.text import CountVectorizer\n",
    "\n",
    "# Paths to your images and labels\n",
    "image_folder = 'C:\\\\Users\\\\rushi\\\\Desktop\\\\3rd year project\\\\Images'\n",
    "json_folder = 'C:\\\\Users\\\\rushi\\\\Desktop\\\\3rd year project\\\\Labeled Image'\n",
    "\n",
    "# Fixed size for the images (e.g., 1200x1200 pixels)\n",
    "fixed_size = (1200, 1200)\n",
    "\n",
    "# Function to load and preprocess images and labels\n",
    "def load_images_and_labels(image_folder, json_folder):\n",
    "    data = []\n",
    "    labels = []\n",
    "    image_files = [f for f in os.listdir(image_folder) if f.endswith('.jpg')]\n",
    "    \n",
    "    for img_file in image_files:\n",
    "        # Load and resize the image\n",
    "        img_path = os.path.join(image_folder, img_file)\n",
    "        image = Image.open(img_path).convert('L')  # Grayscale\n",
    "        image = image.resize(fixed_size)\n",
    "        image_data = np.array(image) / 255.0  # Normalize to [0, 1]\n",
    "        image_data = 2 * image_data - 1  # Scale to [-1, 1] for Tanh\n",
    "        \n",
    "        # Load corresponding JSON label\n",
    "        json_file = img_file.replace('.jpg', '.json')\n",
    "        json_path = os.path.join(json_folder, json_file)\n",
    "        \n",
    "        if os.path.exists(json_path):\n",
    "            with open(json_path, 'r') as f:\n",
    "                label_data = json.load(f)\n",
    "                labels.append(label_data)  # Append the JSON data as a label\n",
    "                data.append(image_data)\n",
    "    \n",
    "    return np.array(data), labels\n",
    "\n",
    "# Load images and labels\n",
    "data, labels = load_images_and_labels(image_folder, json_folder)\n",
    "print(f\"Loaded {len(data)} images and {len(labels)} labels.\")\n"
   ]
  },
  {
   "cell_type": "code",
   "execution_count": 3,
   "metadata": {},
   "outputs": [
    {
     "name": "stdout",
     "output_type": "stream",
     "text": [
      "Text Embeddings Shape: (24, 13)\n",
      "Sample Text Embeddings: [[0 0 1 0 0 1 1 1 1 1 0 1 1]\n",
      " [0 0 1 0 0 1 1 1 1 1 0 1 1]\n",
      " [1 0 0 0 1 1 1 0 0 1 0 0 1]\n",
      " [0 0 1 0 0 1 1 1 1 1 0 1 1]\n",
      " [0 0 1 0 0 1 1 1 1 1 0 1 1]]\n"
     ]
    }
   ],
   "source": [
    "import os\n",
    "import json\n",
    "from sklearn.feature_extraction.text import CountVectorizer\n",
    "\n",
    "# Define a function to create descriptions based on JSON labels\n",
    "def create_description(label_data):\n",
    "    room_types = [shape['label'] for shape in label_data['shapes']]\n",
    "    room_count = len(set(room_types))\n",
    "    \n",
    "    # Basic description based on room types\n",
    "    if room_count == 1:\n",
    "        bhk_type = \"Studio\"\n",
    "    else:\n",
    "        bhk_type = f\"{room_count}BHK\"\n",
    "    \n",
    "    description = f\"{bhk_type} floor plan with \" + \", \".join(set(room_types))\n",
    "    return description\n",
    "\n",
    "# Directory containing JSON files\n",
    "json_folder = 'C:\\\\Users\\\\rushi\\\\Desktop\\\\3rd year project\\\\Labeled Image'  # Update this with the path to your folder containing JSON files\n",
    "descriptions = []\n",
    "\n",
    "# Iterate over all JSON files in the folder\n",
    "for filename in os.listdir(json_folder):\n",
    "    if filename.endswith('.json'):\n",
    "        json_path = os.path.join(json_folder, filename)\n",
    "        with open(json_path, 'r') as f:\n",
    "            label_data = json.load(f)\n",
    "            description = create_description(label_data)\n",
    "            descriptions.append(description)\n",
    "\n",
    "# Vectorize descriptions\n",
    "vectorizer = CountVectorizer()\n",
    "text_embeddings = vectorizer.fit_transform(descriptions).toarray()\n",
    "\n",
    "print(\"Text Embeddings Shape:\", text_embeddings.shape)\n",
    "print(\"Sample Text Embeddings:\", text_embeddings[:5])  # Print sample embeddings for verification\n"
   ]
  },
  {
   "cell_type": "code",
   "execution_count": 4,
   "metadata": {},
   "outputs": [
    {
     "name": "stdout",
     "output_type": "stream",
     "text": [
      "['4BHK floor plan with kitchen, hall, Toilet, bedroom', '4BHK floor plan with kitchen, hall, Toilet, bedroom', '2BHK floor plan with balcony, bedroom', '4BHK floor plan with kitchen, hall, Toilet, bedroom', '4BHK floor plan with kitchen, hall, Toilet, bedroom', '4BHK floor plan with kitchen, hall, Toilet, bedroom', '5BHK floor plan with hall, balcony, bedroom, kitchen, Toilet', '5BHK floor plan with hall, balcony, bedroom, kitchen, Toilet', '4BHK floor plan with kitchen, hall, Toilet, bedroom', '5BHK floor plan with hall, balcony, bedroom, kitchen, Toilet', '5BHK floor plan with hall, balcony, bedroom, kitchen, Toilet', '4BHK floor plan with kitchen, hall, Toilet, bedroom', '5BHK floor plan with hall, balcony, bedroom, kitchen, Toilet', '4BHK floor plan with kitchen, hall, balcony, bedroom', '5BHK floor plan with hall, balcony, bedroom, kitchen, Toilet', '5BHK floor plan with hall, balcony, bedroom, kitchen, Toilet', '5BHK floor plan with hall, balcony, bedroom, kitchen, Toilet', '4BHK floor plan with kitchen, hall, Toilet, bedroom', '4BHK floor plan with kitchen, hall, Toilet, bedroom', '4BHK floor plan with kitchen, hall, Toilet, bedroom', 'Studio floor plan with bedroom', 'Studio floor plan with bedroom', '3BHK floor plan with kitchen, hall, bedroom', '2BHK floor plan with hall, bedroom']\n"
     ]
    }
   ],
   "source": [
    "print (descriptions)"
   ]
  },
  {
   "cell_type": "code",
   "execution_count": null,
   "metadata": {},
   "outputs": [],
   "source": []
  }
 ],
 "metadata": {
  "kernelspec": {
   "display_name": "Python 3",
   "language": "python",
   "name": "python3"
  },
  "language_info": {
   "codemirror_mode": {
    "name": "ipython",
    "version": 3
   },
   "file_extension": ".py",
   "mimetype": "text/x-python",
   "name": "python",
   "nbconvert_exporter": "python",
   "pygments_lexer": "ipython3",
   "version": "3.10.0"
  }
 },
 "nbformat": 4,
 "nbformat_minor": 2
}
